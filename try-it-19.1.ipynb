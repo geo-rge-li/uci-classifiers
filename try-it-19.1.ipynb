{
 "cells": [
  {
   "cell_type": "markdown",
   "metadata": {},
   "source": [
    "### Building a Recommender system with Surprise\n",
    "\n",
    "This try-it focuses on exploring additional algorithms with the `Suprise` library to generate recommendations.  Your goal is to identify the optimal algorithm by minimizing the mean squared error using cross validation. You are also going to select a dataset to use from [grouplens](https://grouplens.org/datasets/movielens/) example datasets.  \n",
    "\n",
    "To begin, head over to grouplens and examine the different datasets available.  Choose one so that it is easy to create the data as expected in `Surprise` with user, item, and rating information.  Then, compare the performance of at least the `KNNBasic`, `SVD`, `NMF`, `SlopeOne`, and `CoClustering` algorithms to build your recommendations.  For more information on the algorithms see the documentation for the algorithm package [here](https://surprise.readthedocs.io/en/stable/prediction_algorithms_package.html).\n",
    "\n",
    "Share the results of your investigation and include the results of your cross validation and a basic description of your dataset with your peers.\n",
    "\n"
   ]
  },
  {
   "cell_type": "code",
   "metadata": {
    "ExecuteTime": {
     "end_time": "2024-09-02T19:16:01.070624Z",
     "start_time": "2024-09-02T19:16:01.068525Z"
    }
   },
   "source": [
    "from surprise import Dataset, Reader, SVD, NMF, KNNBasic, SlopeOne, CoClustering\n",
    "from surprise.model_selection import cross_validate\n",
    "\n",
    "import pandas as pd"
   ],
   "outputs": [],
   "execution_count": 17
  },
  {
   "metadata": {
    "ExecuteTime": {
     "end_time": "2024-09-02T19:16:01.307865Z",
     "start_time": "2024-09-02T19:16:01.114802Z"
    }
   },
   "cell_type": "code",
   "source": [
    "#load the data\n",
    "ratings_df = pd.read_csv('data/ml-latest-small/ratings.csv')\n",
    "movies_df = pd.read_csv('data/ml-latest-small/movies.csv')\n",
    "\n",
    "# Join the dataframes\n",
    "df = pd.merge(ratings_df, movies_df, on='movieId')\n",
    "\n",
    "# Create a Surprise dataset\n",
    "reader = Reader(rating_scale=(1, 5))\n",
    "data = Dataset.load_from_df(df[['userId', 'movieId', 'rating']], reader)"
   ],
   "outputs": [],
   "execution_count": 18
  },
  {
   "cell_type": "code",
   "metadata": {
    "ExecuteTime": {
     "end_time": "2024-09-02T19:16:01.321203Z",
     "start_time": "2024-09-02T19:16:01.319232Z"
    }
   },
   "source": [
    "# Define the algorithms to compare\n",
    "algorithms = [\n",
    "    KNNBasic(),\n",
    "    SVD(),\n",
    "    NMF(),\n",
    "    SlopeOne(),\n",
    "    CoClustering()\n",
    "]\n"
   ],
   "outputs": [],
   "execution_count": 19
  },
  {
   "cell_type": "code",
   "metadata": {
    "ExecuteTime": {
     "end_time": "2024-09-02T19:17:19.232054Z",
     "start_time": "2024-09-02T19:16:01.365133Z"
    }
   },
   "source": [
    "from statistics import mean\n",
    "\n",
    "results = {}\n",
    "for a in algorithms:\n",
    "    cv_results = cross_validate(a, data, measures=['MSE', 'MAE'], cv=5, verbose=False)\n",
    "    results[a.__class__.__name__] = {\n",
    "        'MSE': cv_results['test_mse'].mean(),\n",
    "        'MAE': cv_results['test_mae'].mean(),\n",
    "        'Fit time': mean(cv_results['fit_time']),\n",
    "        'Test time': mean(cv_results['test_time'])\n",
    "    }\n",
    "    \n",
    "    "
   ],
   "outputs": [
    {
     "name": "stdout",
     "output_type": "stream",
     "text": [
      "Computing the msd similarity matrix...\n",
      "Done computing similarity matrix.\n",
      "Computing the msd similarity matrix...\n",
      "Done computing similarity matrix.\n",
      "Computing the msd similarity matrix...\n",
      "Done computing similarity matrix.\n",
      "Computing the msd similarity matrix...\n",
      "Done computing similarity matrix.\n",
      "Computing the msd similarity matrix...\n",
      "Done computing similarity matrix.\n"
     ]
    }
   ],
   "execution_count": 20
  },
  {
   "cell_type": "code",
   "metadata": {
    "ExecuteTime": {
     "end_time": "2024-09-02T19:17:19.249042Z",
     "start_time": "2024-09-02T19:17:19.243338Z"
    }
   },
   "source": [
    "results_df = pd.DataFrame(results).T\n",
    "results_df"
   ],
   "outputs": [
    {
     "data": {
      "text/plain": [
       "                   MSE       MAE  Fit time  Test time\n",
       "KNNBasic      0.896997  0.726086  0.056438   1.487114\n",
       "SVD           0.763921  0.671784  0.677356   0.876277\n",
       "NMF           0.847899  0.705788  1.492872   0.857606\n",
       "SlopeOne      0.811470  0.688301  2.920656   4.375912\n",
       "CoClustering  0.888312  0.729843  1.501372   0.879219"
      ],
      "text/html": [
       "<div>\n",
       "<style scoped>\n",
       "    .dataframe tbody tr th:only-of-type {\n",
       "        vertical-align: middle;\n",
       "    }\n",
       "\n",
       "    .dataframe tbody tr th {\n",
       "        vertical-align: top;\n",
       "    }\n",
       "\n",
       "    .dataframe thead th {\n",
       "        text-align: right;\n",
       "    }\n",
       "</style>\n",
       "<table border=\"1\" class=\"dataframe\">\n",
       "  <thead>\n",
       "    <tr style=\"text-align: right;\">\n",
       "      <th></th>\n",
       "      <th>MSE</th>\n",
       "      <th>MAE</th>\n",
       "      <th>Fit time</th>\n",
       "      <th>Test time</th>\n",
       "    </tr>\n",
       "  </thead>\n",
       "  <tbody>\n",
       "    <tr>\n",
       "      <th>KNNBasic</th>\n",
       "      <td>0.896997</td>\n",
       "      <td>0.726086</td>\n",
       "      <td>0.056438</td>\n",
       "      <td>1.487114</td>\n",
       "    </tr>\n",
       "    <tr>\n",
       "      <th>SVD</th>\n",
       "      <td>0.763921</td>\n",
       "      <td>0.671784</td>\n",
       "      <td>0.677356</td>\n",
       "      <td>0.876277</td>\n",
       "    </tr>\n",
       "    <tr>\n",
       "      <th>NMF</th>\n",
       "      <td>0.847899</td>\n",
       "      <td>0.705788</td>\n",
       "      <td>1.492872</td>\n",
       "      <td>0.857606</td>\n",
       "    </tr>\n",
       "    <tr>\n",
       "      <th>SlopeOne</th>\n",
       "      <td>0.811470</td>\n",
       "      <td>0.688301</td>\n",
       "      <td>2.920656</td>\n",
       "      <td>4.375912</td>\n",
       "    </tr>\n",
       "    <tr>\n",
       "      <th>CoClustering</th>\n",
       "      <td>0.888312</td>\n",
       "      <td>0.729843</td>\n",
       "      <td>1.501372</td>\n",
       "      <td>0.879219</td>\n",
       "    </tr>\n",
       "  </tbody>\n",
       "</table>\n",
       "</div>"
      ]
     },
     "execution_count": 21,
     "metadata": {},
     "output_type": "execute_result"
    }
   ],
   "execution_count": 21
  },
  {
   "cell_type": "code",
   "metadata": {
    "ExecuteTime": {
     "end_time": "2024-09-02T19:19:35.976181Z",
     "start_time": "2024-09-02T19:19:35.947919Z"
    }
   },
   "source": [
    "# Determine the best algorithm based on MSE\n",
    "best_algo = min(results, key=lambda x: results[x]['MSE'])\n",
    "print(f\"The best performing algorithm based on MSE is: {best_algo}\")\n",
    "print(f\"with an MSE of {results[best_algo]['MSE']:.4f}\")\n",
    "\n",
    "# Additional analysis: Top 10 most rated movies\n",
    "top_movies = df.groupby('title').size().sort_values(ascending=False).head(10)\n",
    "print(\"\\nTop 10 highest rated movies:\")\n",
    "print(top_movies)\n",
    "\n",
    "# Additional analysis: Average rating distribution\n",
    "avg_ratings = df.groupby('title')['rating'].mean().sort_values(ascending=False)\n",
    "print(\"\\nRating distribution:\")\n",
    "print(avg_ratings.describe())\n"
   ],
   "outputs": [
    {
     "name": "stdout",
     "output_type": "stream",
     "text": [
      "The best performing algorithm based on MSE is: SVD\n",
      "with an MSE of 0.7639\n",
      "\n",
      "Top 10 highest rated movies:\n",
      "title\n",
      "Forrest Gump (1994)                          329\n",
      "Shawshank Redemption, The (1994)             317\n",
      "Pulp Fiction (1994)                          307\n",
      "Silence of the Lambs, The (1991)             279\n",
      "Matrix, The (1999)                           278\n",
      "Star Wars: Episode IV - A New Hope (1977)    251\n",
      "Jurassic Park (1993)                         238\n",
      "Braveheart (1995)                            237\n",
      "Terminator 2: Judgment Day (1991)            224\n",
      "Schindler's List (1993)                      220\n",
      "dtype: int64\n",
      "\n",
      "Rating distribution:\n",
      "count    9719.000000\n",
      "mean        3.262388\n",
      "std         0.870004\n",
      "min         0.500000\n",
      "25%         2.800000\n",
      "50%         3.416667\n",
      "75%         3.910357\n",
      "max         5.000000\n",
      "Name: rating, dtype: float64\n"
     ]
    }
   ],
   "execution_count": 24
  },
  {
   "cell_type": "code",
   "metadata": {
    "ExecuteTime": {
     "end_time": "2024-09-02T19:19:36.987312Z",
     "start_time": "2024-09-02T19:19:36.889310Z"
    }
   },
   "source": [
    "import matplotlib.pyplot as plt\n",
    "\n",
    "plt.figure(figsize=(10, 6))\n",
    "avg_ratings.hist(bins=20)\n",
    "plt.title('Distribution of Average Movie Ratings')\n",
    "plt.xlabel('Average Rating')\n",
    "plt.ylabel('Number of Movies')\n",
    "plt.savefig('rating_distribution.png')\n",
    "plt.close()\n",
    "\n",
    "print(\"\\nRating distribution histogram saved as 'rating_distribution.png'\")"
   ],
   "outputs": [
    {
     "name": "stdout",
     "output_type": "stream",
     "text": [
      "\n",
      "Rating distribution histogram saved as 'rating_distribution.png'\n"
     ]
    }
   ],
   "execution_count": 25
  },
  {
   "metadata": {},
   "cell_type": "code",
   "outputs": [],
   "execution_count": null,
   "source": ""
  }
 ],
 "metadata": {
  "kernelspec": {
   "display_name": "Python 3",
   "language": "python",
   "name": "python3"
  },
  "language_info": {
   "codemirror_mode": {
    "name": "ipython",
    "version": 3
   },
   "file_extension": ".py",
   "mimetype": "text/x-python",
   "name": "python",
   "nbconvert_exporter": "python",
   "pygments_lexer": "ipython3",
   "version": "3.8.3"
  }
 },
 "nbformat": 4,
 "nbformat_minor": 4
}
